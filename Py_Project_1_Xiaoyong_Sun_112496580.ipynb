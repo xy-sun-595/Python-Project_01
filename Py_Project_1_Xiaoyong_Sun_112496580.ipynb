{
  "cells": [
    {
      "cell_type": "markdown",
      "metadata": {
        "id": "xq__bChjD04e"
      },
      "source": [
        "# Python Assignment 1"
      ]
    },
    {
      "cell_type": "markdown",
      "metadata": {
        "id": "y7j2V0UDMYLG"
      },
      "source": [
        "⏱⏱⏱**Due: 10/03/2023 11:59 PM** ⏱⏱⏱\n",
        "\n",
        "Submit this notebook file and upload it to your git repo. Include a link to your git repo while submitting this file to Brightspace.\n",
        "\n",
        "You are not allowed to use chatgpt or any LLM in this assignment.\n",
        "Cooperation is allowed and encouraged; however, you must write up and submit your own work. If you cooperate with others, you must list their names here."
      ]
    },
    {
      "cell_type": "markdown",
      "metadata": {
        "id": "SUS30Ew9D04n"
      },
      "source": [
        "(100 points total)"
      ]
    },
    {
      "cell_type": "markdown",
      "metadata": {
        "id": "b_bgT3b2GYTB"
      },
      "source": [
        "## 0. Data Types, Structures, Indexing, and Slicing"
      ]
    },
    {
      "cell_type": "markdown",
      "metadata": {
        "id": "6yI1Jt57IwV2"
      },
      "source": [
        "Read the lecutre note as well as [this page](https://www.geeksforgeeks.org/mutable-vs-immutable-objects-in-python/) and [this page](https://www.geeksforgeeks.org/difference-between-shallow-and-deep-copy-of-a-class/). Complete the following questions.\n",
        "\n",
        "(5 points) Give some examples (at least 2) of mutable objects in Python.\n",
        "\n",
        "***Answer:***   Lists, Sets, Dictionaries and Numpy array\n",
        "\n",
        "\n",
        "---\n",
        "\n",
        "\n",
        "\n",
        "(5 points) Give some examples (at least 2) of immutable objects in Python.\n",
        "\n",
        "***Answer:***   Integers, Floats, Strings, and Tuples\n",
        "\n",
        "\n",
        "---\n",
        "\n",
        "\n",
        "\n",
        "(10 points) State the differences between assignment, shallow copy, and deep copy. Any reasonable answer will get full credit.\n",
        "\n",
        "***Answer:***   The difference between Assignment and Shallow or Deep Copy is that Assignment creates a new reference to the same object, no matter immutable basic types or mutable objects, the object and copy's memory address are the same. if we make a changes to the copy will also be seen in the original object. so does Shallow copy for immutable basic types\n",
        "However, Shallow copy for mutable objects and Deep copy for both immutable and mutable objects will not affect to the original. \n",
        "\n",
        "The difference between Shallow and Deep Copy is only relevant for compound objects. For constructing a new compound object, Shallow copy inserts references into it, and Deep copy recursively inserts copies into it.\n",
        "\n",
        "\n",
        "---\n",
        "\n",
        "\n",
        "\n"
      ]
    },
    {
      "cell_type": "markdown",
      "metadata": {
        "id": "OA8DxcrrGqZD"
      },
      "source": [
        "(10 points) Using string methods find() and rfind(), find the index of the first digit (i.e. 0) and the index of the last digit (5) in the string below. Then, using string slicing, extract the number (i.e. 0.595595) from this string and convert the extracted value to a floating point number. Print out this float to the console."
      ]
    },
    {
      "cell_type": "code",
      "execution_count": 1,
      "metadata": {
        "id": "AUuFXXWqG4D3"
      },
      "outputs": [
        {
          "name": "stdout",
          "output_type": "stream",
          "text": [
            "the index of first digit is 43\n",
            "the index of last digit is 50\n",
            "0.595595\n"
          ]
        }
      ],
      "source": [
        "text = \"F-DGFDDSFGFD-CFDSHdstgfdfe: tfsd  aaa bdsf 0.595595 fdsgfdbc\";\n",
        "a = text.find(\"0\",1)                                # Use find() method to get the position of first digit \"0\"\n",
        "b = text.rfind(\"5\",1)                               # Use rfind() method to get the position of last digit \"5\"\n",
        "print(\"the index of first digit is\",a)              # Print the positions of those two digits\n",
        "print(\"the index of last digit is\",b)\n",
        "\n",
        "print(float(text[a:b+1]))                           # Get all the digits from 1st to last digit and print as a float"
      ]
    },
    {
      "cell_type": "markdown",
      "metadata": {
        "id": "cnCljYgpD04p"
      },
      "source": [
        "## 1. Conditional Statements\n",
        "\n",
        "(10 points)\n",
        "Translate the following MATLAB code into Python using `if-elif-else`.\n",
        "```\n",
        "n = input('Enter a number: ');\n",
        "\n",
        "switch n\n",
        "    case -1\n",
        "        disp('negative one')\n",
        "    case 0\n",
        "        disp('zero')\n",
        "    case 1\n",
        "        disp('positive one')\n",
        "    otherwise\n",
        "        disp('other value')\n",
        "end\n",
        "```"
      ]
    },
    {
      "cell_type": "code",
      "execution_count": 2,
      "metadata": {
        "collapsed": true,
        "id": "9d8vl5zjD04q"
      },
      "outputs": [
        {
          "data": {
            "text/plain": [
              "'negative one'"
            ]
          },
          "metadata": {},
          "output_type": "display_data"
        }
      ],
      "source": [
        "n = int(input(\"Enter a number: \"))          # Convert input-value to be a integer\n",
        "if n == -1:                                 # when n is -1, display \"negative one\"          -->match with case -1\n",
        "    display(\"negative one\")\n",
        "elif n == 0:                                # when n is 0, display \"zero\"                   -->match with case 0\n",
        "    display(\"zero\")\n",
        "elif n == 1:                                # when n is 1, display \"positive one\"           -->match with case 1\n",
        "    display(\"positive one\")\n",
        "else:                                       # when n is other integer, display \"other\"      -->match with otherwise\n",
        "    display(\"other value\")\n"
      ]
    },
    {
      "cell_type": "markdown",
      "metadata": {
        "id": "sW9XiUPpD04s"
      },
      "source": [
        "## 2. While Loops\n",
        "\n",
        "(10 points) Write a Python program that calculates the factorial of a given number (you can assume an positive integer) using a while loop. Display the result to the console."
      ]
    },
    {
      "cell_type": "code",
      "execution_count": 8,
      "metadata": {
        "colab": {
          "base_uri": "https://localhost:8080/"
        },
        "collapsed": true,
        "id": "CRCERx8uD04t",
        "outputId": "1870b9d1-fe04-4ae7-e5ec-08ce640ce72e"
      },
      "outputs": [
        {
          "data": {
            "text/plain": [
              "'test cases'"
            ]
          },
          "metadata": {},
          "output_type": "display_data"
        },
        {
          "data": {
            "text/plain": [
              "'n = 17, Output: '"
            ]
          },
          "metadata": {},
          "output_type": "display_data"
        },
        {
          "data": {
            "text/plain": [
              "355687428096000"
            ]
          },
          "metadata": {},
          "output_type": "display_data"
        },
        {
          "data": {
            "text/plain": [
              "'n = 13, Output: '"
            ]
          },
          "metadata": {},
          "output_type": "display_data"
        },
        {
          "data": {
            "text/plain": [
              "6227020800"
            ]
          },
          "metadata": {},
          "output_type": "display_data"
        }
      ],
      "source": [
        "display(\"test cases\")\n",
        "n = 17                                      # Use the given number\n",
        "result = 1                                  # initialize the \"result\"\n",
        "while n >=1:                                # Set a while loop: if n is greater than 1, result = n * n-1 * n-2 ...* 1\n",
        "    result = result*n\n",
        "    n = n-1\n",
        "display(\"n = 17, Output: \",result)          # Display the result\n",
        "\n",
        "n = 13                                      # repeat the process and use n = 13\n",
        "result = 1\n",
        "while n >=1:\n",
        "    result = result*n\n",
        "    n = n-1\n",
        "display(\"n = 13, Output: \",result)\n",
        "\n",
        "\n",
        "\n",
        "# test cases\n",
        "# n = 17, Output: 355687428096000\n",
        "# n = 13, Output: 6227020800"
      ]
    },
    {
      "cell_type": "markdown",
      "metadata": {
        "id": "ZQ5SVMq6D04w"
      },
      "source": [
        "## 3. Functions\n",
        "\n",
        "(10 points) Write a function that determines if a number is prime."
      ]
    },
    {
      "cell_type": "code",
      "execution_count": 13,
      "metadata": {
        "colab": {
          "base_uri": "https://localhost:8080/"
        },
        "id": "6rGP5G3_D04x",
        "outputId": "00df2d17-b697-4146-968f-be4fa7cc3ba3"
      },
      "outputs": [
        {
          "name": "stdout",
          "output_type": "stream",
          "text": [
            "True\n",
            "False\n",
            "True\n"
          ]
        }
      ],
      "source": [
        "def is_prime(n):\n",
        "    \n",
        "    if n < 2:                                   # Prime number is a whole number greater than 1, so we check numbers from 2\n",
        "        return False                            # n is not prime\n",
        "    elif n == 2 or n ==3:                       # 2 and 3 are prime, do not have enough index from 2 to int(sqrt(3)+1) to run for loop\n",
        "        return True                             # n is a prime\n",
        "    else:\n",
        "        for i in range (2, int(n**(0.5)+1)):    # Use for loop to check from 2 to sqrt(n)+1, [sqrt(n)+1]^2 will be over n\n",
        "            if (n % i) == 0:                    # If n/i is equal to 0 ,which means n is diviable by i (No other factors except 1 and itself)\n",
        "                return False                    # n is not a prime, return value:False\n",
        "            else:\n",
        "                return True                     # otherwise it is prime\n",
        "\n",
        "\n",
        "# test cases\n",
        "print(is_prime(2))      # Output: True\n",
        "print(is_prime(10))     # Output: False\n",
        "print(is_prime(17))     # Output: True"
      ]
    },
    {
      "cell_type": "markdown",
      "metadata": {
        "id": "Z6qg-fpQD04u"
      },
      "source": [
        "## 4. List Comprehension\n",
        "\n",
        "(10 points) Write a Python function called `prime_factors` that takes a relatively small integer as input and returns a list of its distinct prime factors. The function should use list comprehension to generate the list of distinct prime factors. You may use the function is_prime() defined in Q3.\n"
      ]
    },
    {
      "cell_type": "code",
      "execution_count": 17,
      "metadata": {
        "colab": {
          "base_uri": "https://localhost:8080/"
        },
        "collapsed": true,
        "id": "2hSCjYlOD04v",
        "outputId": "1024d2e2-7d24-4e65-9529-e5a82d2a3211"
      },
      "outputs": [
        {
          "name": "stdout",
          "output_type": "stream",
          "text": [
            "[2, 3, 5]\n",
            "[2, 7]\n",
            "[2, 3, 11]\n",
            "[2, 29]\n"
          ]
        }
      ],
      "source": [
        "def prime_factors(n):\n",
        "    factors_list = []                                       # Use a list to hold the factors for n\n",
        "    if is_prime(n) == True:                                 # check if n is a prime, prime don't have factors except 1 and itself\n",
        "        return []                                           # return a empty list\n",
        "    else:\n",
        "        for i in range (2 , n):                             # if n is not prime, loop through 2 to n\n",
        "            if n % i == 0 and is_prime(i) == True:          # check any prime number (from 2 to n) can be divisible by n\n",
        "                factors_list.append(i)                      # if it is, Use list to collect it\n",
        "                n//=i                                       # keep divding this number until no more the same factor in n\n",
        "\n",
        "\n",
        "        return factors_list                                 #return all the factors\n",
        "\n",
        "\n",
        "\n",
        "# test cases\n",
        "print(prime_factors(30))  # Output: [2, 3, 5]\n",
        "print(prime_factors(56))  # Output: [2, 7]\n",
        "print(prime_factors(198))  # Output: [2, 3, 11]\n",
        "print(prime_factors(464))  # Output: [2, 29]"
      ]
    },
    {
      "cell_type": "markdown",
      "metadata": {
        "id": "dw4kZZCiD040"
      },
      "source": [
        "## 5. Recursive Functions\n",
        "(25 points) Write a function that uses recursion to generate the $n$th row of the Pascal's triangle.\n",
        "```\n",
        "              1\n",
        "           1     1\n",
        "        1     2     1\n",
        "      1    3     3     1\n",
        "   1    4     6     4    1\n",
        "1     5    10    10    5    1\n",
        "...\n",
        "...\n",
        "...\n",
        "```"
      ]
    },
    {
      "cell_type": "code",
      "execution_count": 20,
      "metadata": {
        "colab": {
          "base_uri": "https://localhost:8080/"
        },
        "id": "V8QFB_gKD040",
        "outputId": "4946dc49-2061-4057-e65d-9f48af44dac9"
      },
      "outputs": [
        {
          "name": "stdout",
          "output_type": "stream",
          "text": [
            "[1, 5, 10, 10, 5, 1]\n"
          ]
        }
      ],
      "source": [
        "def pascal(n):\n",
        "    if n == 0:                                              # if n = 0 then it represents the 1st row which is [1]\n",
        "        return [1]\n",
        "    else:                                                   # if n!= 0\n",
        "        last_row = pascal(n-1)                              # call the function pascal(n-1)\n",
        "        row = [1]                                           \n",
        "        for i in range(1, n-1):                             # loop though from the 1st element to the (n-1)th element\n",
        "            num = last_row[i-1] + last_row[i]               # Each element is the sum of the (i-1)th element and the ith element from last row\n",
        "            row.append(num)                                 # Use \"row\" to collect all n-1 elements above\n",
        "        row.append(1)                                       # Use \"row\" to collect the nth element (always 1)\n",
        "\n",
        "        return row                                          # Return the list of elements in nth row\n",
        "\n",
        "\n",
        "# test case\n",
        "print(pascal(6))  # output [1, 5, 10, 10, 5, 1]"
      ]
    },
    {
      "cell_type": "markdown",
      "metadata": {
        "id": "eZytgm0qD041"
      },
      "source": [
        "Rewrite the above function using only `while` or `for` loops instead of recursion."
      ]
    },
    {
      "cell_type": "code",
      "execution_count": 22,
      "metadata": {
        "colab": {
          "base_uri": "https://localhost:8080/"
        },
        "collapsed": true,
        "id": "UZ8f-akaD041",
        "outputId": "68ec5672-a40f-493f-e725-68b7471e76bc"
      },
      "outputs": [
        {
          "name": "stdout",
          "output_type": "stream",
          "text": [
            "[1, 5, 10, 10, 5, 1]\n"
          ]
        }
      ],
      "source": [
        "def pascal_by_loops(n):\n",
        "    if n == 0:                                              # if n = 0 then it represents the 1st row which is [1]\n",
        "        return [1]\n",
        "    \n",
        "    last_row = [1]                                          # initialize the \"last_row\"\n",
        "    r_num = 0                                               # initialize r_num: index of element in a row\n",
        "    for r_num in range (r_num,n-1):\n",
        "        row =[1]\n",
        "        for i in range(1, r_num+1):                         # loop though from the 1st element to the (r_num + 1)th element\n",
        "            num = last_row[i-1] + last_row[i]               # Each element is the sum of the (i-1)th element and the ith element from last row\n",
        "            row.append(num)                                 # Use \"row\" to collect all r_num+1 elements above\n",
        "        row.append(1)                                       # Use \"row\" to collect the nth element (always 1)\n",
        "        last_row = row                                      # Update row to be last row and move to next row\n",
        "\n",
        "    return row                                              # Return the list of elements in nth row\n",
        "\n",
        "\n",
        "\n",
        "print(pascal_by_loops(6))"
      ]
    },
    {
      "cell_type": "markdown",
      "metadata": {
        "id": "HvHD6QHzVo9I"
      },
      "source": [
        "\n",
        "\n",
        "---\n",
        "\n",
        "\n",
        "（5 points) good coding practice and properly submitting your work to GitHub."
      ]
    }
  ],
  "metadata": {
    "anaconda-cloud": {},
    "colab": {
      "provenance": []
    },
    "kernelspec": {
      "display_name": "Python 3",
      "language": "python",
      "name": "python3"
    },
    "language_info": {
      "codemirror_mode": {
        "name": "ipython",
        "version": 3
      },
      "file_extension": ".py",
      "mimetype": "text/x-python",
      "name": "python",
      "nbconvert_exporter": "python",
      "pygments_lexer": "ipython3",
      "version": "3.11.5"
    }
  },
  "nbformat": 4,
  "nbformat_minor": 0
}
